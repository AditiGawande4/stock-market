{
 "cells": [
  {
   "cell_type": "code",
   "execution_count": 1,
   "id": "03f7f03e",
   "metadata": {},
   "outputs": [
    {
     "name": "stdout",
     "output_type": "stream",
     "text": [
      "Requirement already satisfied: s3fs in /Users/aditigawande/anaconda3/lib/python3.11/site-packages (2023.4.0)\n",
      "Requirement already satisfied: aiobotocore~=2.5.0 in /Users/aditigawande/anaconda3/lib/python3.11/site-packages (from s3fs) (2.5.0)\n",
      "Requirement already satisfied: fsspec==2023.4.0 in /Users/aditigawande/anaconda3/lib/python3.11/site-packages (from s3fs) (2023.4.0)\n",
      "Requirement already satisfied: aiohttp!=4.0.0a0,!=4.0.0a1 in /Users/aditigawande/anaconda3/lib/python3.11/site-packages (from s3fs) (3.8.5)\n",
      "Collecting botocore<1.29.77,>=1.29.76 (from aiobotocore~=2.5.0->s3fs)\n",
      "  Obtaining dependency information for botocore<1.29.77,>=1.29.76 from https://files.pythonhosted.org/packages/87/93/e862d4b2ec9b0c8f7a6ee3141df138c00aa91de42839e55b68e3ebb53bf2/botocore-1.29.76-py3-none-any.whl.metadata\n",
      "  Downloading botocore-1.29.76-py3-none-any.whl.metadata (5.9 kB)\n",
      "Requirement already satisfied: wrapt>=1.10.10 in /Users/aditigawande/anaconda3/lib/python3.11/site-packages (from aiobotocore~=2.5.0->s3fs) (1.14.1)\n",
      "Requirement already satisfied: aioitertools>=0.5.1 in /Users/aditigawande/anaconda3/lib/python3.11/site-packages (from aiobotocore~=2.5.0->s3fs) (0.7.1)\n",
      "Requirement already satisfied: attrs>=17.3.0 in /Users/aditigawande/anaconda3/lib/python3.11/site-packages (from aiohttp!=4.0.0a0,!=4.0.0a1->s3fs) (22.1.0)\n",
      "Requirement already satisfied: charset-normalizer<4.0,>=2.0 in /Users/aditigawande/anaconda3/lib/python3.11/site-packages (from aiohttp!=4.0.0a0,!=4.0.0a1->s3fs) (2.0.4)\n",
      "Requirement already satisfied: multidict<7.0,>=4.5 in /Users/aditigawande/anaconda3/lib/python3.11/site-packages (from aiohttp!=4.0.0a0,!=4.0.0a1->s3fs) (6.0.2)\n",
      "Requirement already satisfied: async-timeout<5.0,>=4.0.0a3 in /Users/aditigawande/anaconda3/lib/python3.11/site-packages (from aiohttp!=4.0.0a0,!=4.0.0a1->s3fs) (4.0.2)\n",
      "Requirement already satisfied: yarl<2.0,>=1.0 in /Users/aditigawande/anaconda3/lib/python3.11/site-packages (from aiohttp!=4.0.0a0,!=4.0.0a1->s3fs) (1.8.1)\n",
      "Requirement already satisfied: frozenlist>=1.1.1 in /Users/aditigawande/anaconda3/lib/python3.11/site-packages (from aiohttp!=4.0.0a0,!=4.0.0a1->s3fs) (1.3.3)\n",
      "Requirement already satisfied: aiosignal>=1.1.2 in /Users/aditigawande/anaconda3/lib/python3.11/site-packages (from aiohttp!=4.0.0a0,!=4.0.0a1->s3fs) (1.2.0)\n",
      "Requirement already satisfied: typing_extensions>=3.7 in /Users/aditigawande/anaconda3/lib/python3.11/site-packages (from aioitertools>=0.5.1->aiobotocore~=2.5.0->s3fs) (4.11.0)\n",
      "Requirement already satisfied: jmespath<2.0.0,>=0.7.1 in /Users/aditigawande/anaconda3/lib/python3.11/site-packages (from botocore<1.29.77,>=1.29.76->aiobotocore~=2.5.0->s3fs) (0.10.0)\n",
      "Requirement already satisfied: python-dateutil<3.0.0,>=2.1 in /Users/aditigawande/anaconda3/lib/python3.11/site-packages (from botocore<1.29.77,>=1.29.76->aiobotocore~=2.5.0->s3fs) (2.8.2)\n",
      "Requirement already satisfied: urllib3<1.27,>=1.25.4 in /Users/aditigawande/anaconda3/lib/python3.11/site-packages (from botocore<1.29.77,>=1.29.76->aiobotocore~=2.5.0->s3fs) (1.26.16)\n",
      "Requirement already satisfied: idna>=2.0 in /Users/aditigawande/anaconda3/lib/python3.11/site-packages (from yarl<2.0,>=1.0->aiohttp!=4.0.0a0,!=4.0.0a1->s3fs) (3.4)\n",
      "Requirement already satisfied: six>=1.5 in /Users/aditigawande/anaconda3/lib/python3.11/site-packages (from python-dateutil<3.0.0,>=2.1->botocore<1.29.77,>=1.29.76->aiobotocore~=2.5.0->s3fs) (1.16.0)\n",
      "Downloading botocore-1.29.76-py3-none-any.whl (10.4 MB)\n",
      "\u001b[2K   \u001b[90m━━━━━━━━━━━━━━━━━━━━━━━━━━━━━━━━━━━━━━━━\u001b[0m \u001b[32m10.4/10.4 MB\u001b[0m \u001b[31m45.2 MB/s\u001b[0m eta \u001b[36m0:00:00\u001b[0m00:01\u001b[0m0:01\u001b[0m\n",
      "\u001b[?25hInstalling collected packages: botocore\n",
      "  Attempting uninstall: botocore\n",
      "    Found existing installation: botocore 1.35.71\n",
      "    Uninstalling botocore-1.35.71:\n",
      "      Successfully uninstalled botocore-1.35.71\n",
      "\u001b[31mERROR: pip's dependency resolver does not currently take into account all the packages that are installed. This behaviour is the source of the following dependency conflicts.\n",
      "boto3 1.35.71 requires botocore<1.36.0,>=1.35.71, but you have botocore 1.29.76 which is incompatible.\n",
      "s3transfer 0.10.4 requires botocore<2.0a.0,>=1.33.2, but you have botocore 1.29.76 which is incompatible.\u001b[0m\u001b[31m\n",
      "\u001b[0mSuccessfully installed botocore-1.29.76\n",
      "Note: you may need to restart the kernel to use updated packages.\n"
     ]
    }
   ],
   "source": [
    "pip install s3fs"
   ]
  },
  {
   "cell_type": "code",
   "execution_count": 2,
   "id": "bad0b790",
   "metadata": {},
   "outputs": [],
   "source": [
    "from kafka import KafkaConsumer\n",
    "from time import sleep\n",
    "from json import dumps, loads\n",
    "import json\n",
    "from s3fs import S3FileSystem"
   ]
  },
  {
   "cell_type": "code",
   "execution_count": 3,
   "id": "0225df19",
   "metadata": {},
   "outputs": [],
   "source": [
    "consumer=KafkaConsumer('demo_test',\n",
    "                       bootstrap_servers=['Put the Public IP of your EC2 Instance:9092'], \n",
    "                       value_deserializer=lambda x:\n",
    "                       loads(x.decode('utf-8')))"
   ]
  },
  {
   "cell_type": "code",
   "execution_count": 4,
   "id": "15788bda",
   "metadata": {},
   "outputs": [],
   "source": [
    "# for c in consumer:\n",
    "#     print(c.value)"
   ]
  },
  {
   "cell_type": "code",
   "execution_count": 5,
   "id": "1e4d76be",
   "metadata": {},
   "outputs": [],
   "source": [
    "s3=S3FileSystem()"
   ]
  },
  {
   "cell_type": "code",
   "execution_count": null,
   "id": "9301e7ef",
   "metadata": {},
   "outputs": [],
   "source": [
    "for count, i in enumerate(consumer):\n",
    "    with s3.open(\"s3://Put your S3 bucket name/stock_market_{}.json\".format(count),'w') as file:\n",
    "        json.dump(i.value, file)"
   ]
  },
  {
   "cell_type": "code",
   "execution_count": null,
   "id": "faf1e948",
   "metadata": {},
   "outputs": [],
   "source": []
  }
 ],
 "metadata": {
  "kernelspec": {
   "display_name": "Python 3 (ipykernel)",
   "language": "python",
   "name": "python3"
  },
  "language_info": {
   "codemirror_mode": {
    "name": "ipython",
    "version": 3
   },
   "file_extension": ".py",
   "mimetype": "text/x-python",
   "name": "python",
   "nbconvert_exporter": "python",
   "pygments_lexer": "ipython3",
   "version": "3.11.5"
  }
 },
 "nbformat": 4,
 "nbformat_minor": 5
}
